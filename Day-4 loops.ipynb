{
 "cells": [
  {
   "cell_type": "markdown",
   "id": "03234fca-ceba-4840-82fc-cdc0fbcda5a7",
   "metadata": {},
   "source": [
    "## Number of even digits and odd digits"
   ]
  },
  {
   "cell_type": "code",
   "execution_count": 1,
   "id": "523669c3-0607-4a86-a1fb-088c64d925a2",
   "metadata": {},
   "outputs": [
    {
     "name": "stdout",
     "output_type": "stream",
     "text": [
      "Even :  2\n",
      "Odd :  4\n"
     ]
    }
   ],
   "source": [
    "num = 783781\n",
    "rem = 0\n",
    "even_count = 0\n",
    "odd_count = 0\n",
    "while num!=0:\n",
    "    rem = num%10\n",
    "    if num % 2 == 0:\n",
    "        even_count += 1\n",
    "    else:\n",
    "        odd_count+=1\n",
    "    num = num//10\n",
    "print(\"Even : \",even_count)\n",
    "print(\"Odd : \",odd_count)"
   ]
  },
  {
   "cell_type": "markdown",
   "id": "58b7023b-8fb2-40c5-87dc-f6e8442a3476",
   "metadata": {},
   "source": [
    "## sum of Even numbers and odd numbers"
   ]
  },
  {
   "cell_type": "code",
   "execution_count": 2,
   "id": "35d18a74-9141-48ee-b40a-0ee3f8d2fcbc",
   "metadata": {},
   "outputs": [
    {
     "name": "stdout",
     "output_type": "stream",
     "text": [
      "Even :  2\n",
      "Odd :  4\n",
      "Sum of even :  16\n",
      "sum of odd :  18\n"
     ]
    }
   ],
   "source": [
    "num = 783781\n",
    "rem = 0\n",
    "even_count = 0\n",
    "odd_count = 0\n",
    "even_sum=0\n",
    "odd_sum=0\n",
    "while num!=0:\n",
    "    rem = num%10\n",
    "    if num % 2 == 0:\n",
    "        even_count += 1\n",
    "        even_sum+=rem\n",
    "    else:\n",
    "        odd_count+=1\n",
    "        odd_sum+=rem\n",
    "    num = num//10\n",
    "print(\"Even : \",even_count)\n",
    "print(\"Odd : \",odd_count)\n",
    "print(\"Sum of even : \",even_sum)\n",
    "print(\"sum of odd : \",odd_sum)"
   ]
  },
  {
   "cell_type": "markdown",
   "id": "25dd4fce-5fb6-482d-b275-7e005ffa1f36",
   "metadata": {},
   "source": [
    "## checking it is prime number for specific number"
   ]
  },
  {
   "cell_type": "code",
   "execution_count": 3,
   "id": "6e94592e-1465-45cb-9aaa-5f18d9b76456",
   "metadata": {},
   "outputs": [
    {
     "name": "stdout",
     "output_type": "stream",
     "text": [
      "Prime\n"
     ]
    }
   ],
   "source": [
    "num = 13\n",
    "i = 1\n",
    "count = 0\n",
    "while i<=num//2:\n",
    "    if num%i==0:\n",
    "        count +=1\n",
    "    i+=1\n",
    "if count==1:\n",
    "    print(\"Prime\")\n",
    "else:\n",
    "    print(\"Not prime\")"
   ]
  },
  {
   "cell_type": "markdown",
   "id": "f0b74800-40bb-43da-a107-6a62f614ad3a",
   "metadata": {},
   "source": [
    "## printing numbers from 1 to 100"
   ]
  },
  {
   "cell_type": "code",
   "execution_count": 4,
   "id": "74054786-50af-4342-8795-6158e55efef1",
   "metadata": {},
   "outputs": [
    {
     "name": "stdout",
     "output_type": "stream",
     "text": [
      "2 3 5 7 11 13 17 19 23 29 31 37 41 43 47 53 59 61 67 71 73 79 83 89 97 "
     ]
    }
   ],
   "source": [
    "num = 2\n",
    "while num <= 100:\n",
    "    i = 2\n",
    "    is_prime = True\n",
    "    while i <= num // 2:\n",
    "        if num % i == 0:\n",
    "            is_prime = False\n",
    "            break\n",
    "        i += 1\n",
    "    if is_prime:\n",
    "        print(num ,end=\" \")\n",
    "    num += 1\n"
   ]
  },
  {
   "cell_type": "markdown",
   "id": "3d5c1cdb-46c8-4b09-a362-219d15d96aa9",
   "metadata": {},
   "source": [
    "## printing digits,alphabets,vowels,special char,spaces in given string"
   ]
  },
  {
   "cell_type": "code",
   "execution_count": 24,
   "id": "8b5823ec-c15c-43a6-8642-f3583c5f279f",
   "metadata": {},
   "outputs": [
    {
     "name": "stdout",
     "output_type": "stream",
     "text": [
      "The String is:  Hi Hello 786 %$\n",
      "Digits :  3\n",
      "Alphabets :  7\n",
      "Vowels :  3\n",
      "Spaces :  3\n",
      "Special characters :  2\n"
     ]
    }
   ],
   "source": [
    "str = \"Hi Hello 786 %$\"\n",
    "digits = 0\n",
    "alphabets = 0\n",
    "vowels = 0\n",
    "special = 0\n",
    "spaces = 0\n",
    "vowel = \"aeiouAEIOU\"\n",
    "for char in str:\n",
    "    if char.isdigit():\n",
    "        digits+=1\n",
    "    elif char.isalpha():\n",
    "        alphabets+=1\n",
    "        if char in vowel:\n",
    "            vowels+=1\n",
    "    elif char.isspace():\n",
    "        spaces+=1\n",
    "    else:\n",
    "        special+=1\n",
    "print(\"The String is: \",str)\n",
    "print(\"Digits : \",count)\n",
    "print(\"Alphabets : \",alphabets)\n",
    "print(\"Vowels : \",vowels)\n",
    "print(\"Spaces : \",spaces)\n",
    "print(\"Special characters : \",special)"
   ]
  },
  {
   "cell_type": "markdown",
   "id": "1a6496f5-fab4-46c5-a28f-43257508067b",
   "metadata": {},
   "source": [
    "## Basic functions"
   ]
  },
  {
   "cell_type": "code",
   "execution_count": 36,
   "id": "b26f54ba-2300-4512-8f5e-91d030c23708",
   "metadata": {},
   "outputs": [
    {
     "name": "stdout",
     "output_type": "stream",
     "text": [
      "True\n",
      "True\n"
     ]
    }
   ],
   "source": [
    "str = \"Hi Hello this is Tekwork\"\n",
    "print(str.startswith(\"H\"))\n",
    "print(str.endswith(\"k\"))"
   ]
  },
  {
   "cell_type": "code",
   "execution_count": null,
   "id": "e88080c6-fa29-4455-86e4-e1499618e17a",
   "metadata": {},
   "outputs": [],
   "source": []
  }
 ],
 "metadata": {
  "kernelspec": {
   "display_name": "Python 3 (ipykernel)",
   "language": "python",
   "name": "python3"
  },
  "language_info": {
   "codemirror_mode": {
    "name": "ipython",
    "version": 3
   },
   "file_extension": ".py",
   "mimetype": "text/x-python",
   "name": "python",
   "nbconvert_exporter": "python",
   "pygments_lexer": "ipython3",
   "version": "3.12.10"
  }
 },
 "nbformat": 4,
 "nbformat_minor": 5
}
