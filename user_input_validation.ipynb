{
 "cells": [
  {
   "cell_type": "code",
   "execution_count": 1,
   "id": "4f250e6b-4fb3-451a-ac31-0bb44e72b7ba",
   "metadata": {},
   "outputs": [
    {
     "name": "stdin",
     "output_type": "stream",
     "text": [
      "Enter your name:  platapus\n",
      "Enter your mobile number:  7894561235\n",
      "Enter your email:  platapus3@.in\n",
      "Enter your password:  Platapus3@\n"
     ]
    },
    {
     "name": "stdout",
     "output_type": "stream",
     "text": [
      "Valid name: platapus\n",
      "Valid mobile number: 7894561235\n",
      "Valid email: platapus3@.in\n",
      "Valid password: Platapus3@\n"
     ]
    }
   ],
   "source": [
    "name = input(\"Enter your name: \")\n",
    "mobile_number = input(\"Enter your mobile number: \")\n",
    "email = input(\"Enter your email: \")\n",
    "password = input(\"Enter your password: \")\n",
    "\n",
    "# For name\n",
    "if not name.isalpha():\n",
    "    print(\"Name should contain only alphabets\")\n",
    "elif len(name) < 3:\n",
    "    print(\"Name should have at least 3 characters\")\n",
    "elif len(name) > 15:\n",
    "    print(\"Name should be less than or equal to 15 characters\")\n",
    "else:\n",
    "    print(\"Valid name:\", name)\n",
    "\n",
    "# For mobile number\n",
    "if not mobile_number.isdigit():\n",
    "    print(\"Mobile number should contain only digits\")\n",
    "elif len(mobile_number) != 10:\n",
    "    print(\"Mobile number should contain exactly 10 digits\")\n",
    "elif mobile_number[0] not in ['6', '7', '8', '9']:\n",
    "    print(\"Mobile number should start with 6, 7, 8, or 9\")\n",
    "else:\n",
    "    print(\"Valid mobile number:\", mobile_number)\n",
    "\n",
    "# For email\n",
    "if not email[0].isalpha():\n",
    "    print(\"Email should start with an alphabet\")\n",
    "elif '@' not in email:\n",
    "    print(\"Email should contain '@'\")\n",
    "elif not (email.endswith('.com') or email.endswith('.in')):\n",
    "    print(\"Email should end with .com or .in\")\n",
    "elif not any(char.isalpha() for char in email) or not any(char.isdigit() for char in email) or not any(char in ['@', '.', '_', '-'] for char in email):\n",
    "    print(\"Email should contain alphabets, digits, and special characters (@, ., _, -)\")\n",
    "else:\n",
    "    print(\"Valid email:\", email)\n",
    "\n",
    "# For password\n",
    "if len(password) < 3:\n",
    "    print(\"Password should contain at least 3 characters\")\n",
    "elif len(password) > 20:\n",
    "    print(\"Password should be less than or equal to 20 characters\")\n",
    "elif not any(char.isupper() for char in password):\n",
    "    print(\"Password should contain at least one uppercase letter\")\n",
    "elif not any(char.islower() for char in password):\n",
    "    print(\"Password should contain at least one lowercase letter\")\n",
    "elif not any(char.isdigit() for char in password):\n",
    "    print(\"Password should contain at least one digit\")\n",
    "elif not any(char in ['@', '#', '$', '%', '&', '*'] for char in password):\n",
    "    print(\"Password should contain at least one special character (@, #, $, %, &, *)\")\n",
    "else:\n",
    "    print(\"Valid password:\", password)"
   ]
  },
  {
   "cell_type": "code",
   "execution_count": null,
   "id": "4fa36632-4304-451f-ab1f-2f6d172902e3",
   "metadata": {},
   "outputs": [],
   "source": []
  }
 ],
 "metadata": {
  "kernelspec": {
   "display_name": "Python 3 (ipykernel)",
   "language": "python",
   "name": "python3"
  },
  "language_info": {
   "codemirror_mode": {
    "name": "ipython",
    "version": 3
   },
   "file_extension": ".py",
   "mimetype": "text/x-python",
   "name": "python",
   "nbconvert_exporter": "python",
   "pygments_lexer": "ipython3",
   "version": "3.12.10"
  }
 },
 "nbformat": 4,
 "nbformat_minor": 5
}
