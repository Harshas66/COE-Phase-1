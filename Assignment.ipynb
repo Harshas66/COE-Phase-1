{
 "cells": [
  {
   "cell_type": "markdown",
   "id": "451a5231-33d8-44de-b110-63885531412d",
   "metadata": {},
   "source": [
    "Write program to convert the distance (in feet) to inches, yards, and miles. \n",
    "\n",
    "Input: \n",
    "\n",
    "Enter the distance in feet : 5\n",
    "\n",
    "\n",
    "\n",
    "Expected Output:\n",
    "\n",
    "Distance in feet : 5.0 \n",
    "\n",
    "Distance in inches : 60.0\n",
    "\n",
    "Distance in yards : 1.6666666666666667 \n",
    "\n",
    "Distance in miles : 0.000946969696969697"
   ]
  },
  {
   "cell_type": "code",
   "execution_count": 4,
   "id": "4bd2aa79-5a33-46b1-bf84-d62332a3b7ba",
   "metadata": {},
   "outputs": [
    {
     "name": "stdin",
     "output_type": "stream",
     "text": [
      "Enter the distance in feet :  5\n"
     ]
    },
    {
     "name": "stdout",
     "output_type": "stream",
     "text": [
      "\n",
      "Distance in feet   : 5.0\n",
      "Distance in inches : 60.0\n",
      "Distance in yards  : 1.6666666666666667\n",
      "Distance in miles  : 0.000946969696969697\n"
     ]
    }
   ],
   "source": [
    "feet = float(input(\"Enter the distance in feet : \"))\n",
    "\n",
    "inches = feet * 12              \n",
    "yards = feet / 3               \n",
    "miles = feet / 5280             \n",
    "\n",
    "print(\"\\nDistance in feet   :\", feet)\n",
    "print(\"Distance in inches :\", inches)\n",
    "print(\"Distance in yards  :\", yards)\n",
    "print(\"Distance in miles  :\", miles)"
   ]
  },
  {
   "cell_type": "markdown",
   "id": "ae8b5150-c9f4-4d27-828a-cdf300bb8729",
   "metadata": {},
   "source": [
    "Write a python script to enter student number, name, marks in c, c++ and java calculate and display total marks, average, result and grade. Print fail if student average is less than 70.  "
   ]
  },
  {
   "cell_type": "code",
   "execution_count": 5,
   "id": "b32036d0-44f6-4102-ac0f-5a04bfac39d2",
   "metadata": {},
   "outputs": [
    {
     "name": "stdin",
     "output_type": "stream",
     "text": [
      "Enter Student Number:  66\n",
      "Enter Student Name:  Harsha\n",
      "Enter marks in C:  80\n",
      "Enter marks in C++:  90\n",
      "Enter marks in Java:  85\n"
     ]
    },
    {
     "name": "stdout",
     "output_type": "stream",
     "text": [
      "\n",
      "--- Student Result ---\n",
      "Student Number : 66\n",
      "Name           : Harsha\n",
      "Marks in C     : 80.0\n",
      "Marks in C++   : 90.0\n",
      "Marks in Java  : 85.0\n",
      "Total Marks    : 255.0\n",
      "Average Marks  : 85.00\n",
      "Result         : Pass\n",
      "Grade          : A\n"
     ]
    }
   ],
   "source": [
    "\n",
    "student_number = input(\"Enter Student Number: \")\n",
    "name = input(\"Enter Student Name: \")\n",
    "\n",
    "c_marks = float(input(\"Enter marks in C: \"))\n",
    "cpp_marks = float(input(\"Enter marks in C++: \"))\n",
    "java_marks = float(input(\"Enter marks in Java: \"))\n",
    "\n",
    "total = c_marks + cpp_marks + java_marks\n",
    "average = total / 3\n",
    "\n",
    "if average >= 70:\n",
    "    result = \"Pass\"\n",
    "else:\n",
    "    result = \"Fail\"\n",
    "\n",
    "if average >= 90:\n",
    "    grade = \"A+\"\n",
    "elif average >= 80:\n",
    "    grade = \"A\"\n",
    "elif average >= 70:\n",
    "    grade = \"B\"\n",
    "else:\n",
    "    grade = \"F\"\n",
    "\n",
    "print(\"\\n--- Student Result ---\")\n",
    "print(f\"Student Number : {student_number}\")\n",
    "print(f\"Name           : {name}\")\n",
    "print(f\"Marks in C     : {c_marks}\")\n",
    "print(f\"Marks in C++   : {cpp_marks}\")\n",
    "print(f\"Marks in Java  : {java_marks}\")\n",
    "print(f\"Total Marks    : {total}\")\n",
    "print(f\"Average Marks  : {average:.2f}\")\n",
    "print(f\"Result         : {result}\")\n",
    "print(f\"Grade          : {grade}\")"
   ]
  },
  {
   "cell_type": "code",
   "execution_count": null,
   "id": "57a4c370-863e-44d4-89f5-5edc080e4c05",
   "metadata": {},
   "outputs": [],
   "source": []
  }
 ],
 "metadata": {
  "kernelspec": {
   "display_name": "Python 3 (ipykernel)",
   "language": "python",
   "name": "python3"
  },
  "language_info": {
   "codemirror_mode": {
    "name": "ipython",
    "version": 3
   },
   "file_extension": ".py",
   "mimetype": "text/x-python",
   "name": "python",
   "nbconvert_exporter": "python",
   "pygments_lexer": "ipython3",
   "version": "3.12.10"
  }
 },
 "nbformat": 4,
 "nbformat_minor": 5
}
