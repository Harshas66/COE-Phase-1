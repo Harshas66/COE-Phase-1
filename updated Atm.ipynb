{
 "cells": [
  {
   "cell_type": "code",
   "execution_count": 1,
   "id": "59d8794f-3061-4ee0-aeeb-7575080d6ac9",
   "metadata": {},
   "outputs": [
    {
     "name": "stdout",
     "output_type": "stream",
     "text": [
      "\n",
      "--- Welcome to Simple Bank ATM ---\n"
     ]
    },
    {
     "name": "stdin",
     "output_type": "stream",
     "text": [
      "Create your 4-digit PIN:  1234\n",
      "Confirm your PIN:  1234\n"
     ]
    },
    {
     "name": "stdout",
     "output_type": "stream",
     "text": [
      "PIN created successfully!\n",
      "\n"
     ]
    },
    {
     "name": "stdin",
     "output_type": "stream",
     "text": [
      "Enter your PIN:  1234\n"
     ]
    },
    {
     "name": "stdout",
     "output_type": "stream",
     "text": [
      "PIN verified successfully!\n",
      "\n",
      "\n",
      "--- Main Menu ---\n",
      "1. Deposit Money\n",
      "2. Withdraw Money\n",
      "3. Balance Enquiry\n",
      "4. Change PIN\n",
      "0. Exit\n"
     ]
    },
    {
     "name": "stdin",
     "output_type": "stream",
     "text": [
      "Choose an option:  3\n"
     ]
    },
    {
     "name": "stdout",
     "output_type": "stream",
     "text": [
      "Your current balance is: ₹10000\n",
      "\n",
      "\n",
      "--- Main Menu ---\n",
      "1. Deposit Money\n",
      "2. Withdraw Money\n",
      "3. Balance Enquiry\n",
      "4. Change PIN\n",
      "0. Exit\n"
     ]
    },
    {
     "name": "stdin",
     "output_type": "stream",
     "text": [
      "Choose an option:  1\n",
      "Enter deposit amount (multiples of 100):  50000\n"
     ]
    },
    {
     "name": "stdout",
     "output_type": "stream",
     "text": [
      "Deposit successful. Updated balance: ₹60000\n",
      "\n",
      "\n",
      "----- Transaction Receipt -----\n",
      "Date & Time: 28-04-2025 21:47:30\n",
      "Transaction Type: Deposit\n",
      "Amount: ₹50000\n",
      "Available Balance: ₹60000\n",
      "-------------------------------\n",
      "\n",
      "\n",
      "--- Main Menu ---\n",
      "1. Deposit Money\n",
      "2. Withdraw Money\n",
      "3. Balance Enquiry\n",
      "4. Change PIN\n",
      "0. Exit\n"
     ]
    },
    {
     "name": "stdin",
     "output_type": "stream",
     "text": [
      "Choose an option:  2\n",
      "Enter withdrawal amount (multiples of 100):  20000\n"
     ]
    },
    {
     "name": "stdout",
     "output_type": "stream",
     "text": [
      "Withdrawal successful. Remaining balance: ₹40000\n",
      "\n",
      "\n",
      "----- Transaction Receipt -----\n",
      "Date & Time: 28-04-2025 21:47:52\n",
      "Transaction Type: Withdraw\n",
      "Amount: ₹20000\n",
      "Available Balance: ₹40000\n",
      "-------------------------------\n",
      "\n",
      "\n",
      "--- Main Menu ---\n",
      "1. Deposit Money\n",
      "2. Withdraw Money\n",
      "3. Balance Enquiry\n",
      "4. Change PIN\n",
      "0. Exit\n"
     ]
    },
    {
     "name": "stdin",
     "output_type": "stream",
     "text": [
      "Choose an option:  4\n",
      "Enter your current PIN:  1234\n",
      "Enter your new 4-digit PIN:  6666\n",
      "Confirm your new PIN:  6666\n"
     ]
    },
    {
     "name": "stdout",
     "output_type": "stream",
     "text": [
      "PIN changed successfully!\n",
      "\n",
      "\n",
      "--- Main Menu ---\n",
      "1. Deposit Money\n",
      "2. Withdraw Money\n",
      "3. Balance Enquiry\n",
      "4. Change PIN\n",
      "0. Exit\n"
     ]
    },
    {
     "name": "stdin",
     "output_type": "stream",
     "text": [
      "Choose an option:  0\n"
     ]
    },
    {
     "name": "stdout",
     "output_type": "stream",
     "text": [
      "\n",
      "Thank you for banking with us. Goodbye!\n",
      "\n"
     ]
    }
   ],
   "source": [
    "import datetime  \n",
    "\n",
    "class Bank:\n",
    "    def __init__(self):\n",
    "        self.pin = None\n",
    "        self.pin_attempts = 0\n",
    "        self.balance = 10000\n",
    "        self.withdraw_count = 0\n",
    "        self.max_withdrawals = 3\n",
    "\n",
    "    def start(self):\n",
    "        print(\"\\n--- Welcome to Simple Bank ATM ---\")\n",
    "        \n",
    "        if self.pin is None:\n",
    "            self.create_new_pin()\n",
    "        \n",
    "        if self.validate_pin():\n",
    "            self.main_menu()\n",
    "\n",
    "    def create_new_pin(self):\n",
    "        while True:\n",
    "            try:\n",
    "                new_pin = int(input(\"Create your 4-digit PIN: \"))\n",
    "                confirm_pin = int(input(\"Confirm your PIN: \"))\n",
    "\n",
    "                if new_pin == confirm_pin and 1000 <= new_pin <= 9999:\n",
    "                    self.pin = new_pin\n",
    "                    print(\"PIN created successfully!\\n\")\n",
    "                    break\n",
    "                else:\n",
    "                    print(\"PINs do not match or invalid. Please try again.\\n\")\n",
    "            except ValueError:\n",
    "                print(\"Invalid input. PIN must be a 4-digit number.\\n\")\n",
    "\n",
    "    def validate_pin(self):\n",
    "        while self.pin_attempts < 3:\n",
    "            try:\n",
    "                entered_pin = int(input(\"Enter your PIN: \"))\n",
    "            except ValueError:\n",
    "                print(\"PIN must be a number.\\n\")\n",
    "                continue\n",
    "\n",
    "            if entered_pin == self.pin:\n",
    "                print(\"PIN verified successfully!\\n\")\n",
    "                return True\n",
    "            else:\n",
    "                self.pin_attempts += 1\n",
    "                attempts_left = 3 - self.pin_attempts\n",
    "                if attempts_left > 0:\n",
    "                    print(f\"Incorrect PIN. Attempts left: {attempts_left}\\n\")\n",
    "        \n",
    "        print(\"You have entered wrong PIN 3 times.\")\n",
    "        print(\"You can try again after 24 hours.\\n\")\n",
    "        return False\n",
    "\n",
    "    def main_menu(self):\n",
    "        while True:\n",
    "            print(\"\\n--- Main Menu ---\")\n",
    "            print(\"1. Deposit Money\")\n",
    "            print(\"2. Withdraw Money\")\n",
    "            print(\"3. Balance Enquiry\")\n",
    "            print(\"4. Change PIN\")\n",
    "            print(\"0. Exit\")\n",
    "            \n",
    "            choice = input(\"Choose an option: \")\n",
    "            \n",
    "            if choice == '1':\n",
    "                self.deposit()\n",
    "            elif choice == '2':\n",
    "                self.withdraw()\n",
    "            elif choice == '3':\n",
    "                self.show_balance()\n",
    "            elif choice == '4':\n",
    "                self.change_pin()\n",
    "            elif choice == '0':\n",
    "                print(\"\\nThank you for banking with us. Goodbye!\\n\")\n",
    "                break\n",
    "            else:\n",
    "                print(\"Invalid option. Please choose again.\\n\")\n",
    "\n",
    "    def deposit(self):\n",
    "        try:\n",
    "            amount = int(input(\"Enter deposit amount (multiples of 100): \"))\n",
    "            if amount <= 0 or amount % 100 != 0:\n",
    "                print(\"Amount must be positive and in multiples of 100.\\n\")\n",
    "                return\n",
    "\n",
    "            if amount > 50000:\n",
    "                print(\"Deposit limit is ₹50,000 per transaction.\\n\")\n",
    "                return\n",
    "\n",
    "            self.balance += amount\n",
    "            print(f\"Deposit successful. Updated balance: ₹{self.balance}\\n\")\n",
    "            self.print_receipt(\"Deposit\", amount)\n",
    "\n",
    "        except ValueError:\n",
    "            print(\"Please enter a valid number.\\n\")\n",
    "\n",
    "    def withdraw(self):\n",
    "        if self.withdraw_count >= self.max_withdrawals:\n",
    "            print(\"Withdrawal limit reached for today. Try again tomorrow.\\n\")\n",
    "            return\n",
    "\n",
    "        try:\n",
    "            amount = int(input(\"Enter withdrawal amount (multiples of 100): \"))\n",
    "            if amount <= 0 or amount % 100 != 0:\n",
    "                print(\"Amount must be positive and in multiples of 100.\\n\")\n",
    "                return\n",
    "\n",
    "            if amount > 20000:\n",
    "                print(\"Cannot withdraw more than ₹20,000 at a time.\\n\")\n",
    "                return\n",
    "\n",
    "            if amount > self.balance:\n",
    "                print(\"Insufficient balance.\\n\")\n",
    "                return\n",
    "\n",
    "            self.balance -= amount\n",
    "            self.withdraw_count += 1\n",
    "            print(f\"Withdrawal successful. Remaining balance: ₹{self.balance}\\n\")\n",
    "            self.print_receipt(\"Withdraw\", amount)\n",
    "\n",
    "        except ValueError:\n",
    "            print(\"Please enter a valid number.\\n\")\n",
    "\n",
    "    def show_balance(self):\n",
    "        print(f\"Your current balance is: ₹{self.balance}\\n\")\n",
    "\n",
    "    def change_pin(self):\n",
    "        try:\n",
    "            old_pin = int(input(\"Enter your current PIN: \"))\n",
    "            if old_pin != self.pin:\n",
    "                print(\"Incorrect current PIN. Cannot change PIN.\\n\")\n",
    "                return\n",
    "\n",
    "            new_pin = int(input(\"Enter your new 4-digit PIN: \"))\n",
    "            confirm_pin = int(input(\"Confirm your new PIN: \"))\n",
    "\n",
    "            if new_pin != confirm_pin:\n",
    "                print(\"New PINs do not match. Please try again.\\n\")\n",
    "                return\n",
    "\n",
    "            if 1000 <= new_pin <= 9999:\n",
    "                self.pin = new_pin\n",
    "                print(\"PIN changed successfully!\\n\")\n",
    "            else:\n",
    "                print(\"PIN must be a 4-digit number.\\n\")\n",
    "\n",
    "        except ValueError:\n",
    "            print(\"PIN must be a number.\\n\")\n",
    "\n",
    "    def print_receipt(self, transaction_type, amount):\n",
    "        now = datetime.datetime.now()\n",
    "        print(\"\\n----- Transaction Receipt -----\")\n",
    "        print(f\"Date & Time: {now.strftime('%d-%m-%Y %H:%M:%S')}\")\n",
    "        print(f\"Transaction Type: {transaction_type}\")\n",
    "        print(f\"Amount: ₹{amount}\")\n",
    "        print(f\"Available Balance: ₹{self.balance}\")\n",
    "        print(\"-------------------------------\\n\")\n",
    "\n",
    "\n",
    "if __name__ == \"__main__\":\n",
    "    atm = Bank()\n",
    "    atm.start()\n"
   ]
  },
  {
   "cell_type": "code",
   "execution_count": null,
   "id": "f5e38e5a-05a8-457d-b116-8a6784bc133b",
   "metadata": {},
   "outputs": [],
   "source": []
  }
 ],
 "metadata": {
  "kernelspec": {
   "display_name": "Python 3 (ipykernel)",
   "language": "python",
   "name": "python3"
  },
  "language_info": {
   "codemirror_mode": {
    "name": "ipython",
    "version": 3
   },
   "file_extension": ".py",
   "mimetype": "text/x-python",
   "name": "python",
   "nbconvert_exporter": "python",
   "pygments_lexer": "ipython3",
   "version": "3.12.10"
  }
 },
 "nbformat": 4,
 "nbformat_minor": 5
}
