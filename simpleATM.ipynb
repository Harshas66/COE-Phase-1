{
 "cells": [
  {
   "cell_type": "code",
   "execution_count": 1,
   "id": "0647a3c0-3717-4795-b809-735a2e23faec",
   "metadata": {},
   "outputs": [
    {
     "name": "stdout",
     "output_type": "stream",
     "text": [
      "\n",
      "=== Welcome to Python Simple ATM ===\n",
      "1. Set PIN\n",
      "2. Enter PIN\n",
      "3. Exit\n"
     ]
    },
    {
     "name": "stdin",
     "output_type": "stream",
     "text": [
      "Choose an option:  1\n",
      "Set 4-digit PIN:  6666\n"
     ]
    },
    {
     "name": "stdout",
     "output_type": "stream",
     "text": [
      "PIN set successfully.\n",
      "\n",
      "=== Welcome to Python Simple ATM ===\n",
      "1. Set PIN\n",
      "2. Enter PIN\n",
      "3. Exit\n"
     ]
    },
    {
     "name": "stdin",
     "output_type": "stream",
     "text": [
      "Choose an option:  2\n",
      "Enter your pin:  6666\n"
     ]
    },
    {
     "name": "stdout",
     "output_type": "stream",
     "text": [
      "Correct PIN.\n",
      "\n",
      "Select an option:\n",
      "1. Withdraw\n",
      "2. Deposit\n",
      "3. Check Balance\n",
      "4. Exit\n"
     ]
    },
    {
     "name": "stdin",
     "output_type": "stream",
     "text": [
      "Your choice:  3\n"
     ]
    },
    {
     "name": "stdout",
     "output_type": "stream",
     "text": [
      "Your current balance is ₹10000\n",
      "\n",
      "Select an option:\n",
      "1. Withdraw\n",
      "2. Deposit\n",
      "3. Check Balance\n",
      "4. Exit\n"
     ]
    },
    {
     "name": "stdin",
     "output_type": "stream",
     "text": [
      "Your choice:  2\n",
      "Enter amount to deposit: ₹ 50000\n"
     ]
    },
    {
     "name": "stdout",
     "output_type": "stream",
     "text": [
      "Maximum deposit limit per transaction is ₹20,000.\n",
      "\n",
      "Select an option:\n",
      "1. Withdraw\n",
      "2. Deposit\n",
      "3. Check Balance\n",
      "4. Exit\n"
     ]
    },
    {
     "name": "stdin",
     "output_type": "stream",
     "text": [
      "Your choice:  4\n"
     ]
    },
    {
     "name": "stdout",
     "output_type": "stream",
     "text": [
      "Exiting to main menu...\n",
      "\n",
      "=== Welcome to Python Simple ATM ===\n",
      "1. Set PIN\n",
      "2. Enter PIN\n",
      "3. Exit\n"
     ]
    },
    {
     "name": "stdin",
     "output_type": "stream",
     "text": [
      "Choose an option:  3\n"
     ]
    },
    {
     "name": "stdout",
     "output_type": "stream",
     "text": [
      "Thank you for using the ATM. Bye.\n"
     ]
    }
   ],
   "source": [
    "pin = \"\"\n",
    "balance = 10000  \n",
    "\n",
    "def set_pin():\n",
    "    global pin\n",
    "    if pin != \"\":\n",
    "        print(\"PIN is already set.\")\n",
    "        return\n",
    "    pin_input = input(\"Set 4-digit PIN: \")\n",
    "    if len(pin_input) == 4 and pin_input.isdigit():\n",
    "        pin = pin_input\n",
    "        print(\"PIN set successfully.\")\n",
    "    else:\n",
    "        print(\"Please enter a valid 4-digit number.\")\n",
    "        set_pin()\n",
    "\n",
    "def check_pin():\n",
    "    tries = 3\n",
    "    while tries > 0:\n",
    "        entered = input(\"Enter your pin: \")\n",
    "        if entered == pin:\n",
    "            print(\"Correct PIN.\")\n",
    "            show_options()\n",
    "            return\n",
    "        else:\n",
    "            tries -= 1\n",
    "            print(f\"Wrong PIN. You have {tries} tries left.\")\n",
    "    print(\"Too many wrong tries. Exiting...\")\n",
    "    exit()\n",
    "\n",
    "def withdraw():\n",
    "    global balance\n",
    "    amount = input(\"Enter amount to withdraw: ₹\")\n",
    "    if amount.isdigit():\n",
    "        amount = int(amount)\n",
    "        if amount % 100 != 0:\n",
    "            print(\"Only ₹100 multiples allowed.\")\n",
    "        elif amount > 20000:\n",
    "            print(\"Maximum withdrawal limit per transaction is ₹20,000.\")\n",
    "        elif amount > balance:\n",
    "            print(\"Not enough money in the account.\")\n",
    "        else:\n",
    "            balance -= amount\n",
    "            print(f\"₹{amount} withdrawn.\")\n",
    "            print(f\"Balance: ₹{balance}\")\n",
    "    else:\n",
    "        print(\"Invalid amount entered.\")\n",
    "\n",
    "def deposit():\n",
    "    global balance\n",
    "    amount = input(\"Enter amount to deposit: ₹\")\n",
    "    if amount.isdigit():\n",
    "        amount = int(amount)\n",
    "        if amount % 100 != 0:\n",
    "            print(\"Only ₹100 multiples allowed.\")\n",
    "        elif amount > 20000:\n",
    "            print(\"Maximum deposit limit per transaction is ₹20,000.\")\n",
    "        else:\n",
    "            balance += amount\n",
    "            print(f\"₹{amount} deposited.\")\n",
    "            print(f\"Balance: ₹{balance}\")\n",
    "    else:\n",
    "        print(\"Invalid amount entered.\")\n",
    "\n",
    "def show_balance():\n",
    "    print(f\"Your current balance is ₹{balance}\")\n",
    "\n",
    "def show_options():\n",
    "    while True:\n",
    "        print(\"\\nSelect an option:\")\n",
    "        print(\"1. Withdraw\")\n",
    "        print(\"2. Deposit\")\n",
    "        print(\"3. Check Balance\")\n",
    "        print(\"4. Exit\")\n",
    "        choice = input(\"Your choice: \")\n",
    "\n",
    "        if choice == '1':\n",
    "            withdraw()\n",
    "        elif choice == '2':\n",
    "            deposit()\n",
    "        elif choice == '3':\n",
    "            show_balance()\n",
    "        elif choice == '4':\n",
    "            print(\"Exiting to main menu...\")\n",
    "            break\n",
    "        else:\n",
    "            print(\"Please choose a valid option.\")\n",
    "\n",
    "def main():\n",
    "    while True:\n",
    "        print(\"\\n=== Welcome to Python Simple ATM ===\")\n",
    "        print(\"1. Set PIN\")\n",
    "        print(\"2. Enter PIN\")\n",
    "        print(\"3. Exit\")\n",
    "        option = input(\"Choose an option: \")\n",
    "\n",
    "        if option == '1':\n",
    "            set_pin()\n",
    "        elif option == '2':\n",
    "            if pin == \"\":\n",
    "                print(\"Please set your PIN first ❗\")\n",
    "            else:\n",
    "                check_pin()\n",
    "        elif option == '3':\n",
    "            print(\"Thank you for using the ATM. Bye.\")\n",
    "            break\n",
    "        else:\n",
    "            print(\"Invalid option. Try again.\")\n",
    "\n",
    "main()\n"
   ]
  },
  {
   "cell_type": "code",
   "execution_count": 2,
   "id": "5d82298b-3b0f-4e17-a62d-016cd28b2cc4",
   "metadata": {},
   "outputs": [
    {
     "name": "stdout",
     "output_type": "stream",
     "text": [
      "\n",
      "=== Welcome to Python Simple ATM ===\n",
      "1. Set PIN\n",
      "2. Enter PIN\n",
      "3. Exit\n"
     ]
    },
    {
     "name": "stdin",
     "output_type": "stream",
     "text": [
      "Choose an option:  1\n",
      "Set 4-digit PIN:  6666\n"
     ]
    },
    {
     "name": "stdout",
     "output_type": "stream",
     "text": [
      "PIN set successfully.\n",
      "\n",
      "=== Welcome to Python Simple ATM ===\n",
      "1. Set PIN\n",
      "2. Enter PIN\n",
      "3. Exit\n"
     ]
    },
    {
     "name": "stdin",
     "output_type": "stream",
     "text": [
      "Choose an option:  2\n",
      "Enter your pin:  6666\n"
     ]
    },
    {
     "name": "stdout",
     "output_type": "stream",
     "text": [
      "Correct PIN.\n",
      "\n",
      "Select an option:\n",
      "1. Withdraw\n",
      "2. Deposit\n",
      "3. Check Balance\n",
      "4. Exit\n"
     ]
    },
    {
     "name": "stdin",
     "output_type": "stream",
     "text": [
      "Your choice:  3\n"
     ]
    },
    {
     "name": "stdout",
     "output_type": "stream",
     "text": [
      "Your current balance is ₹10000\n",
      "\n",
      "Select an option:\n",
      "1. Withdraw\n",
      "2. Deposit\n",
      "3. Check Balance\n",
      "4. Exit\n"
     ]
    },
    {
     "name": "stdin",
     "output_type": "stream",
     "text": [
      "Your choice:  1\n",
      "Enter amount to withdraw: ₹ 500\n"
     ]
    },
    {
     "name": "stdout",
     "output_type": "stream",
     "text": [
      "₹500 withdrawn.\n",
      "Balance: ₹9500\n",
      "\n",
      "Select an option:\n",
      "1. Withdraw\n",
      "2. Deposit\n",
      "3. Check Balance\n",
      "4. Exit\n"
     ]
    },
    {
     "name": "stdin",
     "output_type": "stream",
     "text": [
      "Your choice:  2\n",
      "Enter amount to deposit: ₹ 50000\n"
     ]
    },
    {
     "name": "stdout",
     "output_type": "stream",
     "text": [
      "₹50000 deposited.\n",
      "Balance: ₹59500\n",
      "\n",
      "Select an option:\n",
      "1. Withdraw\n",
      "2. Deposit\n",
      "3. Check Balance\n",
      "4. Exit\n"
     ]
    },
    {
     "name": "stdin",
     "output_type": "stream",
     "text": [
      "Your choice:  3\n"
     ]
    },
    {
     "name": "stdout",
     "output_type": "stream",
     "text": [
      "Your current balance is ₹59500\n",
      "\n",
      "Select an option:\n",
      "1. Withdraw\n",
      "2. Deposit\n",
      "3. Check Balance\n",
      "4. Exit\n"
     ]
    },
    {
     "name": "stdin",
     "output_type": "stream",
     "text": [
      "Your choice:  1\n",
      "Enter amount to withdraw: ₹ 30000\n"
     ]
    },
    {
     "name": "stdout",
     "output_type": "stream",
     "text": [
      "Maximum withdrawal limit per transaction is ₹20,000.\n",
      "\n",
      "Select an option:\n",
      "1. Withdraw\n",
      "2. Deposit\n",
      "3. Check Balance\n",
      "4. Exit\n"
     ]
    },
    {
     "name": "stdin",
     "output_type": "stream",
     "text": [
      "Your choice:  4\n"
     ]
    },
    {
     "name": "stdout",
     "output_type": "stream",
     "text": [
      "Exiting to main menu...\n",
      "\n",
      "=== Welcome to Python Simple ATM ===\n",
      "1. Set PIN\n",
      "2. Enter PIN\n",
      "3. Exit\n"
     ]
    },
    {
     "name": "stdin",
     "output_type": "stream",
     "text": [
      "Choose an option:  3\n"
     ]
    },
    {
     "name": "stdout",
     "output_type": "stream",
     "text": [
      "Thank you for using the ATM. Bye.\n"
     ]
    }
   ],
   "source": [
    "pin = \"\"\n",
    "balance = 10000  \n",
    "def set_pin():\n",
    "    global pin\n",
    "    if pin != \"\":\n",
    "        print(\"PIN is already set.\")\n",
    "        return\n",
    "    pin_input = input(\"Set 4-digit PIN: \")\n",
    "    if len(pin_input) == 4 and pin_input.isdigit():\n",
    "        pin = pin_input\n",
    "        print(\"PIN set successfully.\")\n",
    "    else:\n",
    "        print(\"Please enter a valid 4-digit number.\")\n",
    "        set_pin()\n",
    "\n",
    "def check_pin():\n",
    "    tries = 3\n",
    "    while tries > 0:\n",
    "        entered = input(\"Enter your pin: \")\n",
    "        if entered == pin:\n",
    "            print(\"Correct PIN.\")\n",
    "            show_options()\n",
    "            return\n",
    "        else:\n",
    "            tries -= 1\n",
    "            print(f\"Wrong PIN. You have {tries} tries left.\")\n",
    "    print(\"Too many wrong tries. Exiting...\")\n",
    "    exit()\n",
    "\n",
    "def withdraw():\n",
    "    global balance\n",
    "    amount = input(\"Enter amount to withdraw: ₹\")\n",
    "    if amount.isdigit():\n",
    "        amount = int(amount)\n",
    "        if amount % 100 != 0:\n",
    "            print(\"Only ₹100 multiples allowed.\")\n",
    "        elif amount > 20000:\n",
    "            print(\"Maximum withdrawal limit per transaction is ₹20,000.\")\n",
    "        elif amount > balance:\n",
    "            print(\"Not enough money in the account.\")\n",
    "        else:\n",
    "            balance -= amount\n",
    "            print(f\"₹{amount} withdrawn.\")\n",
    "            print(f\"Balance: ₹{balance}\")\n",
    "    else:\n",
    "        print(\"Invalid amount entered.\")\n",
    "\n",
    "def deposit():\n",
    "    global balance\n",
    "    amount = input(\"Enter amount to deposit: ₹\")\n",
    "    if amount.isdigit():\n",
    "        amount = int(amount)\n",
    "        if amount % 100 != 0:\n",
    "            print(\"Only ₹100 multiples allowed.\")\n",
    "        balance += amount\n",
    "        print(f\"₹{amount} deposited.\")\n",
    "        print(f\"Balance: ₹{balance}\")\n",
    "    else:\n",
    "        print(\"Invalid amount entered.\")\n",
    "\n",
    "def show_balance():\n",
    "    print(f\"Your current balance is ₹{balance}\")\n",
    "\n",
    "def show_options():\n",
    "    while True:\n",
    "        print(\"\\nSelect an option:\")\n",
    "        print(\"1. Withdraw\")\n",
    "        print(\"2. Deposit\")\n",
    "        print(\"3. Check Balance\")\n",
    "        print(\"4. Exit\")\n",
    "        choice = input(\"Your choice: \")\n",
    "\n",
    "        if choice == '1':\n",
    "            withdraw()\n",
    "        elif choice == '2':\n",
    "            deposit()\n",
    "        elif choice == '3':\n",
    "            show_balance()\n",
    "        elif choice == '4':\n",
    "            print(\"Exiting to main menu...\")\n",
    "            break\n",
    "        else:\n",
    "            print(\"Please choose a valid option.\")\n",
    "\n",
    "def main():\n",
    "    while True:\n",
    "        print(\"\\n=== Welcome to Python Simple ATM ===\")\n",
    "        print(\"1. Set PIN\")\n",
    "        print(\"2. Enter PIN\")\n",
    "        print(\"3. Exit\")\n",
    "        option = input(\"Choose an option: \")\n",
    "\n",
    "        if option == '1':\n",
    "            set_pin()\n",
    "        elif option == '2':\n",
    "            if pin == \"\":\n",
    "                print(\"Please set your PIN first ❗\")\n",
    "            else:\n",
    "                check_pin()\n",
    "        elif option == '3':\n",
    "            print(\"Thank you for using the ATM. Bye.\")\n",
    "            break\n",
    "        else:\n",
    "            print(\"Invalid option. Try again.\")\n",
    "\n",
    "main()\n"
   ]
  },
  {
   "cell_type": "code",
   "execution_count": 5,
   "id": "befdd5bd-933c-463b-a62c-90501a9c5019",
   "metadata": {},
   "outputs": [
    {
     "name": "stdin",
     "output_type": "stream",
     "text": [
      "Enter your pin :  1245\n"
     ]
    },
    {
     "name": "stdout",
     "output_type": "stream",
     "text": [
      "Invalid pin, please try again\n"
     ]
    },
    {
     "name": "stdin",
     "output_type": "stream",
     "text": [
      "Enter your pin :  1265\n"
     ]
    },
    {
     "name": "stdout",
     "output_type": "stream",
     "text": [
      "Invalid pin, please try again\n"
     ]
    },
    {
     "name": "stdin",
     "output_type": "stream",
     "text": [
      "Enter your pin :  1235\n"
     ]
    },
    {
     "name": "stdout",
     "output_type": "stream",
     "text": [
      "Your card is blocked for the day\n"
     ]
    }
   ],
   "source": [
    "# using oops\n",
    "\n",
    "class Bank:\n",
    "    pin=1234\n",
    "    pincount=1\n",
    "    acbal=10000\n",
    "    wcount=0\n",
    "    def viewOptions(self):\n",
    "        print(\"1. Deposit \")\n",
    "        print(\"2. Withdarw \")\n",
    "        print(\"3. Bal Enquiry \")\n",
    "        print(\"0. EXIT \")\n",
    "        opt=int(input(\"Choose your option\"))\n",
    "        if opt==1:\n",
    "            obj.deposit()\n",
    "            obj.confirm()\n",
    "        elif opt==2:\n",
    "            if self.wcount<3:\n",
    "                obj.withdraw()\n",
    "                obj.confirm()\n",
    "            else:\n",
    "                print(\"Withdraw limit is over, please try after 24 hrs\")\n",
    "        \n",
    "    \n",
    "    def validate(self):\n",
    "        pin=int(input(\"Enter your pin : \"))\n",
    "        if self.pin==pin:\n",
    "           obj.viewOptions()\n",
    "        else:\n",
    "            self.pincount+=1\n",
    "            if self.pincount<=3:\n",
    "                print(\"Invalid pin, please try again\")\n",
    "                obj.validate()\n",
    "            else:\n",
    "                print(\"Your card is blocked for the day\")\n",
    "    def deposit(self):\n",
    "        amt=int(input(\"Enter deposit amount : \"))\n",
    "        if amt%100==0:\n",
    "            if amt<=50000:\n",
    "                self.acbal+=amt\n",
    "                print(\"Avaialble bal is : \",self.acbal)\n",
    "            else:\n",
    "                print(\"Transaction limit is 20000 only\")\n",
    "                \n",
    "        else:\n",
    "            print(\"Please enter multiples of 100 \")\n",
    "        \n",
    "    def confirm(self):\n",
    "        opt=int(input(\"1.Continue  \\n 0. EXIT \"))\n",
    "        if opt==1:\n",
    "                obj.viewOptions()\n",
    "        else:\n",
    "            print(\"Thank you, Visit again \")\n",
    "    def withdraw(self):\n",
    "        amt=int(input(\"Enter withdraw amount : \"))\n",
    "        if amt%100==0:\n",
    "            if amt<=self.acbal:\n",
    "                if amt<=20000:\n",
    "                    self.acbal-=amt\n",
    "                    self.wcount+=1\n",
    "                    print(\"Avalilable bal is : \",self.acbal)\n",
    "                        \n",
    "                else:\n",
    "                    print(\"Transaction limit is 20000 only\")\n",
    "            else:\n",
    "                print(\"insuffient fund \")\n",
    "        else:\n",
    "            print(\"Please enter multiples of 100 only\")\n",
    "            \n",
    "            \n",
    "obj=Bank()\n",
    "obj.validate()\n",
    "        \n",
    "        "
   ]
  },
  {
   "cell_type": "code",
   "execution_count": 1,
   "id": "999817bd-c704-4310-8efc-288483468c0e",
   "metadata": {},
   "outputs": [
    {
     "name": "stdout",
     "output_type": "stream",
     "text": [
      "\n",
      "--- Welcome to Simple Bank ATM ---\n"
     ]
    },
    {
     "name": "stdin",
     "output_type": "stream",
     "text": [
      "Create your 4-digit PIN:  1234\n",
      "Confirm your PIN:  1234\n"
     ]
    },
    {
     "name": "stdout",
     "output_type": "stream",
     "text": [
      "PIN created successfully!\n",
      "\n"
     ]
    },
    {
     "name": "stdin",
     "output_type": "stream",
     "text": [
      "Enter your PIN:  1234\n"
     ]
    },
    {
     "name": "stdout",
     "output_type": "stream",
     "text": [
      "PIN verified successfully!\n",
      "\n",
      "\n",
      "--- Main Menu ---\n",
      "1. Deposit Money\n",
      "2. Withdraw Money\n",
      "3. Balance Enquiry\n",
      "4. Change PIN\n",
      "0. Exit\n"
     ]
    },
    {
     "name": "stdin",
     "output_type": "stream",
     "text": [
      "Choose an option:  3\n"
     ]
    },
    {
     "name": "stdout",
     "output_type": "stream",
     "text": [
      "Your current balance is: ₹10000\n",
      "\n",
      "\n",
      "--- Main Menu ---\n",
      "1. Deposit Money\n",
      "2. Withdraw Money\n",
      "3. Balance Enquiry\n",
      "4. Change PIN\n",
      "0. Exit\n"
     ]
    },
    {
     "name": "stdin",
     "output_type": "stream",
     "text": [
      "Choose an option:  1\n",
      "Enter deposit amount (multiples of 100):  100000\n"
     ]
    },
    {
     "name": "stdout",
     "output_type": "stream",
     "text": [
      "Deposit limit is ₹50,000 per transaction.\n",
      "\n",
      "\n",
      "--- Main Menu ---\n",
      "1. Deposit Money\n",
      "2. Withdraw Money\n",
      "3. Balance Enquiry\n",
      "4. Change PIN\n",
      "0. Exit\n"
     ]
    },
    {
     "name": "stdin",
     "output_type": "stream",
     "text": [
      "Choose an option:  50000\n"
     ]
    },
    {
     "name": "stdout",
     "output_type": "stream",
     "text": [
      "Invalid option. Please choose again.\n",
      "\n",
      "\n",
      "--- Main Menu ---\n",
      "1. Deposit Money\n",
      "2. Withdraw Money\n",
      "3. Balance Enquiry\n",
      "4. Change PIN\n",
      "0. Exit\n"
     ]
    },
    {
     "name": "stdin",
     "output_type": "stream",
     "text": [
      "Choose an option:  1\n",
      "Enter deposit amount (multiples of 100):  50000\n"
     ]
    },
    {
     "name": "stdout",
     "output_type": "stream",
     "text": [
      "Deposit successful. Updated balance: ₹60000\n",
      "\n",
      "\n",
      "----- Transaction Receipt -----\n",
      "Date & Time: 28-04-2025 21:41:17\n",
      "Transaction Type: Deposit\n",
      "Amount: ₹50000\n",
      "Available Balance: ₹60000\n",
      "-------------------------------\n",
      "\n",
      "\n",
      "--- Main Menu ---\n",
      "1. Deposit Money\n",
      "2. Withdraw Money\n",
      "3. Balance Enquiry\n",
      "4. Change PIN\n",
      "0. Exit\n"
     ]
    },
    {
     "name": "stdin",
     "output_type": "stream",
     "text": [
      "Choose an option:  2\n",
      "Enter withdrawal amount (multiples of 100):  25000\n"
     ]
    },
    {
     "name": "stdout",
     "output_type": "stream",
     "text": [
      "Cannot withdraw more than ₹20,000 at a time.\n",
      "\n",
      "\n",
      "--- Main Menu ---\n",
      "1. Deposit Money\n",
      "2. Withdraw Money\n",
      "3. Balance Enquiry\n",
      "4. Change PIN\n",
      "0. Exit\n"
     ]
    },
    {
     "name": "stdin",
     "output_type": "stream",
     "text": [
      "Choose an option:  2\n",
      "Enter withdrawal amount (multiples of 100):  20000\n"
     ]
    },
    {
     "name": "stdout",
     "output_type": "stream",
     "text": [
      "Withdrawal successful. Remaining balance: ₹40000\n",
      "\n",
      "\n",
      "----- Transaction Receipt -----\n",
      "Date & Time: 28-04-2025 21:41:46\n",
      "Transaction Type: Withdraw\n",
      "Amount: ₹20000\n",
      "Available Balance: ₹40000\n",
      "-------------------------------\n",
      "\n",
      "\n",
      "--- Main Menu ---\n",
      "1. Deposit Money\n",
      "2. Withdraw Money\n",
      "3. Balance Enquiry\n",
      "4. Change PIN\n",
      "0. Exit\n"
     ]
    },
    {
     "name": "stdin",
     "output_type": "stream",
     "text": [
      "Choose an option:  4\n",
      "Enter your current PIN:  1234\n",
      "Enter your new 4-digit PIN:  6666\n",
      "Confirm your new PIN:  0\n"
     ]
    },
    {
     "name": "stdout",
     "output_type": "stream",
     "text": [
      "New PINs do not match. Please try again.\n",
      "\n",
      "\n",
      "--- Main Menu ---\n",
      "1. Deposit Money\n",
      "2. Withdraw Money\n",
      "3. Balance Enquiry\n",
      "4. Change PIN\n",
      "0. Exit\n"
     ]
    },
    {
     "name": "stdin",
     "output_type": "stream",
     "text": [
      "Choose an option:  0\n"
     ]
    },
    {
     "name": "stdout",
     "output_type": "stream",
     "text": [
      "\n",
      "Thank you for banking with us. Goodbye!\n",
      "\n"
     ]
    }
   ],
   "source": [
    "import datetime  \n",
    "\n",
    "class Bank:\n",
    "    def __init__(self):\n",
    "        self.pin = None\n",
    "        self.pin_attempts = 0\n",
    "        self.balance = 10000\n",
    "        self.withdraw_count = 0\n",
    "        self.max_withdrawals = 3\n",
    "\n",
    "    def start(self):\n",
    "        print(\"\\n--- Welcome to Simple Bank ATM ---\")\n",
    "        \n",
    "        if self.pin is None:\n",
    "            self.create_new_pin()\n",
    "        \n",
    "        if self.validate_pin():\n",
    "            self.main_menu()\n",
    "\n",
    "    def create_new_pin(self):\n",
    "        while True:\n",
    "            try:\n",
    "                new_pin = int(input(\"Create your 4-digit PIN: \"))\n",
    "                confirm_pin = int(input(\"Confirm your PIN: \"))\n",
    "\n",
    "                if new_pin == confirm_pin and 1000 <= new_pin <= 9999:\n",
    "                    self.pin = new_pin\n",
    "                    print(\"PIN created successfully!\\n\")\n",
    "                    break\n",
    "                else:\n",
    "                    print(\"PINs do not match or invalid. Please try again.\\n\")\n",
    "            except ValueError:\n",
    "                print(\"Invalid input. PIN must be a 4-digit number.\\n\")\n",
    "\n",
    "    def validate_pin(self):\n",
    "        while self.pin_attempts < 3:\n",
    "            try:\n",
    "                entered_pin = int(input(\"Enter your PIN: \"))\n",
    "            except ValueError:\n",
    "                print(\"PIN must be a number.\\n\")\n",
    "                continue\n",
    "\n",
    "            if entered_pin == self.pin:\n",
    "                print(\"PIN verified successfully!\\n\")\n",
    "                return True\n",
    "            else:\n",
    "                self.pin_attempts += 1\n",
    "                attempts_left = 3 - self.pin_attempts\n",
    "                if attempts_left > 0:\n",
    "                    print(f\"Incorrect PIN. Attempts left: {attempts_left}\\n\")\n",
    "        \n",
    "        print(\"You have entered wrong PIN 3 times.\")\n",
    "        print(\"You can try again after 24 hours.\\n\")\n",
    "        return False\n",
    "\n",
    "    def main_menu(self):\n",
    "        while True:\n",
    "            print(\"\\n--- Main Menu ---\")\n",
    "            print(\"1. Deposit Money\")\n",
    "            print(\"2. Withdraw Money\")\n",
    "            print(\"3. Balance Enquiry\")\n",
    "            print(\"4. Change PIN\")\n",
    "            print(\"0. Exit\")\n",
    "            \n",
    "            choice = input(\"Choose an option: \")\n",
    "            \n",
    "            if choice == '1':\n",
    "                self.deposit()\n",
    "            elif choice == '2':\n",
    "                self.withdraw()\n",
    "            elif choice == '3':\n",
    "                self.show_balance()\n",
    "            elif choice == '4':\n",
    "                self.change_pin()\n",
    "            elif choice == '0':\n",
    "                print(\"\\nThank you for banking with us. Goodbye!\\n\")\n",
    "                break\n",
    "            else:\n",
    "                print(\"Invalid option. Please choose again.\\n\")\n",
    "\n",
    "    def deposit(self):\n",
    "        try:\n",
    "            amount = int(input(\"Enter deposit amount (multiples of 100): \"))\n",
    "            if amount <= 0 or amount % 100 != 0:\n",
    "                print(\"Amount must be positive and in multiples of 100.\\n\")\n",
    "                return\n",
    "\n",
    "            if amount > 50000:\n",
    "                print(\"Deposit limit is ₹50,000 per transaction.\\n\")\n",
    "                return\n",
    "\n",
    "            self.balance += amount\n",
    "            print(f\"Deposit successful. Updated balance: ₹{self.balance}\\n\")\n",
    "            self.print_receipt(\"Deposit\", amount)\n",
    "\n",
    "        except ValueError:\n",
    "            print(\"Please enter a valid number.\\n\")\n",
    "\n",
    "    def withdraw(self):\n",
    "        if self.withdraw_count >= self.max_withdrawals:\n",
    "            print(\"Withdrawal limit reached for today. Try again tomorrow.\\n\")\n",
    "            return\n",
    "\n",
    "        try:\n",
    "            amount = int(input(\"Enter withdrawal amount (multiples of 100): \"))\n",
    "            if amount <= 0 or amount % 100 != 0:\n",
    "                print(\"Amount must be positive and in multiples of 100.\\n\")\n",
    "                return\n",
    "\n",
    "            if amount > 20000:\n",
    "                print(\"Cannot withdraw more than ₹20,000 at a time.\\n\")\n",
    "                return\n",
    "\n",
    "            if amount > self.balance:\n",
    "                print(\"Insufficient balance.\\n\")\n",
    "                return\n",
    "\n",
    "            self.balance -= amount\n",
    "            self.withdraw_count += 1\n",
    "            print(f\"Withdrawal successful. Remaining balance: ₹{self.balance}\\n\")\n",
    "            self.print_receipt(\"Withdraw\", amount)\n",
    "\n",
    "        except ValueError:\n",
    "            print(\"Please enter a valid number.\\n\")\n",
    "\n",
    "    def show_balance(self):\n",
    "        print(f\"Your current balance is: ₹{self.balance}\\n\")\n",
    "\n",
    "    def change_pin(self):\n",
    "        try:\n",
    "            old_pin = int(input(\"Enter your current PIN: \"))\n",
    "            if old_pin != self.pin:\n",
    "                print(\"Incorrect current PIN. Cannot change PIN.\\n\")\n",
    "                return\n",
    "\n",
    "            new_pin = int(input(\"Enter your new 4-digit PIN: \"))\n",
    "            confirm_pin = int(input(\"Confirm your new PIN: \"))\n",
    "\n",
    "            if new_pin != confirm_pin:\n",
    "                print(\"New PINs do not match. Please try again.\\n\")\n",
    "                return\n",
    "\n",
    "            if 1000 <= new_pin <= 9999:\n",
    "                self.pin = new_pin\n",
    "                print(\"PIN changed successfully!\\n\")\n",
    "            else:\n",
    "                print(\"PIN must be a 4-digit number.\\n\")\n",
    "\n",
    "        except ValueError:\n",
    "            print(\"PIN must be a number.\\n\")\n",
    "\n",
    "    def print_receipt(self, transaction_type, amount):\n",
    "        now = datetime.datetime.now()\n",
    "        print(\"\\n----- Transaction Receipt -----\")\n",
    "        print(f\"Date & Time: {now.strftime('%d-%m-%Y %H:%M:%S')}\")\n",
    "        print(f\"Transaction Type: {transaction_type}\")\n",
    "        print(f\"Amount: ₹{amount}\")\n",
    "        print(f\"Available Balance: ₹{self.balance}\")\n",
    "        print(\"-------------------------------\\n\")\n",
    "\n",
    "# --- Program starts here ---\n",
    "if __name__ == \"__main__\":\n",
    "    atm = Bank()\n",
    "    atm.start()\n"
   ]
  },
  {
   "cell_type": "code",
   "execution_count": null,
   "id": "12944d86-af4c-44aa-8dbf-19d7905d51b9",
   "metadata": {},
   "outputs": [],
   "source": []
  }
 ],
 "metadata": {
  "kernelspec": {
   "display_name": "Python 3 (ipykernel)",
   "language": "python",
   "name": "python3"
  },
  "language_info": {
   "codemirror_mode": {
    "name": "ipython",
    "version": 3
   },
   "file_extension": ".py",
   "mimetype": "text/x-python",
   "name": "python",
   "nbconvert_exporter": "python",
   "pygments_lexer": "ipython3",
   "version": "3.12.10"
  }
 },
 "nbformat": 4,
 "nbformat_minor": 5
}
