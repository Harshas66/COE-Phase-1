{
 "cells": [
  {
   "cell_type": "code",
   "execution_count": 17,
   "id": "964febf8-7f87-43da-9add-a7bc3086e6e5",
   "metadata": {},
   "outputs": [
    {
     "name": "stdin",
     "output_type": "stream",
     "text": [
      "Enter Your Internal marks:  10\n",
      "Enter Your External marks:  60\n",
      "Enter Your Project marks:  90\n"
     ]
    },
    {
     "name": "stdout",
     "output_type": "stream",
     "text": [
      "'C' Grade..\n",
      "Failed in Internal  10\n"
     ]
    }
   ],
   "source": [
    "Internal = int(input(\"Enter Your Internal marks: \"))\n",
    "External = int(input(\"Enter Your External marks: \"))\n",
    "project = int(input(\"Enter Your Project marks: \"))\n",
    "if (Internal >= 50 and External >=50 and project >=50):\n",
    "    Total = (70/100*project) + (20/100*External) + (10/100*Internal)\n",
    "    print(\"Your Total Score\",Total)\n",
    "if Total >=90:\n",
    "    print(\"'A' Grade..\")\n",
    "elif Total>=70:\n",
    "    print(\"'B' Grade..\")\n",
    "else:\n",
    "    print(\"'C' Grade..\")\n",
    "\n",
    "if(Internal <50):\n",
    "    print(\"Failed in Internal  \",Internal)\n",
    "if(External <50):\n",
    "    print(\"Failed in External \",External)\n",
    "if(project <50):\n",
    "    print(\"Failed in project \",Project)"
   ]
  },
  {
   "cell_type": "code",
   "execution_count": 4,
   "id": "17926a4f-9299-4d6c-9384-2eecf3645b4f",
   "metadata": {},
   "outputs": [
    {
     "name": "stdin",
     "output_type": "stream",
     "text": [
      "Enter your previous units:  5400\n",
      "Enter your present units:  6500\n"
     ]
    },
    {
     "name": "stdout",
     "output_type": "stream",
     "text": [
      "1100\n",
      "Base Bill: 2350.00\n",
      "GST:  423.0\n",
      "Total Due:  2773.0\n"
     ]
    }
   ],
   "source": [
    "previous = int(input(\"Enter your previous units: \"))\n",
    "present = int(input(\"Enter your present units: \"))\n",
    "units = present - previous\n",
    "print(units)\n",
    "bill = 0\n",
    "if units <=50:\n",
    "    bill = units * 0.50\n",
    "elif units <= 150:\n",
    "    bill = 50 * 0.50 + (units-50) * 0.75\n",
    "elif units <= 250:\n",
    "    bill = 50 * 0.50 + 100 * 0.75 + (units-150) * 1.25\n",
    "else:\n",
    "    bill = 50 * 0.50 + 100 * 0.75 + 100 * 1.25 + (units - 250) * 2.50\n",
    "gst = bill * 0.18\n",
    "total_amount = bill + gst\n",
    "print(f\"Base Bill: {bill:.2f}\")\n",
    "print(\"GST: \",gst)\n",
    "print(\"Total Due: \",total_amount)"
   ]
  },
  {
   "cell_type": "code",
   "execution_count": 19,
   "id": "0550b97f-7dbe-4b4a-930e-c3513466820a",
   "metadata": {},
   "outputs": [
    {
     "name": "stdin",
     "output_type": "stream",
     "text": [
      "Enter your preference (veg/non-veg/combo):  veg\n",
      "Enter your quantity:  1\n",
      "Enter yes/no if is is festival today:  yes\n"
     ]
    },
    {
     "name": "stdout",
     "output_type": "stream",
     "text": [
      "150\n",
      "Total:  141.75\n"
     ]
    }
   ],
   "source": [
    "choice = input(\"Enter your preference (veg/non-veg/combo): \").lower()\n",
    "quantity = int(input(\"Enter your quantity: \"))\n",
    "festival = input(\"Enter yes/no if is is festival today: \").lower()\n",
    "if choice == \"veg\":\n",
    "    price_plate = 150\n",
    "elif choice == \"non-veg\":\n",
    "    price_plate = 200\n",
    "elif choice == \"combo\":\n",
    "    price_plate = 300\n",
    "bill = price_plate * quantity\n",
    "print(bill)\n",
    "if festival == \"yes\":\n",
    "    discount = bill * 0.10\n",
    "else:\n",
    "    discount = 0\n",
    "total = bill - discount\n",
    "gst = total *0.05\n",
    "final_amount = total + gst\n",
    "print(\"Total: \",final_amount)\n",
    "if total > 1000:\n",
    "    print(\"Free Desert..\")"
   ]
  },
  {
   "cell_type": "code",
   "execution_count": 21,
   "id": "b1da67e3-cec0-4347-89b4-acd1e29d0dd8",
   "metadata": {},
   "outputs": [
    {
     "name": "stdin",
     "output_type": "stream",
     "text": [
      "Enter your name:  aman\n",
      "Enter your 10th percentage:  89.2\n",
      "Enter your 12th percentage:  88.5\n",
      "Enter your ug percentage:  86.1\n",
      "Enter your family income:  3\n"
     ]
    },
    {
     "name": "stdout",
     "output_type": "stream",
     "text": [
      "partial scholarship\n"
     ]
    }
   ],
   "source": [
    "name = input(\"Enter your name: \")\n",
    "tenth = float(input(\"Enter your 10th percentage: \"))\n",
    "twelve = float(input(\"Enter your 12th percentage: \"))\n",
    "ug = float(input(\"Enter your ug percentage: \"))\n",
    "family_income = float(input(\"Enter your family income: \"))\n",
    "if tenth >= 85 and twelve >= 85 and ug >= 85 and family_income < 3:\n",
    "    print(\"Full scholarship\")\n",
    "elif ug > 70 and family_income <5:\n",
    "    print(\"partial scholarship\")\n",
    "else:\n",
    "    print(\"Not eligible\")"
   ]
  },
  {
   "cell_type": "code",
   "execution_count": null,
   "id": "212b556e-466a-4415-a740-44154c1bfcc8",
   "metadata": {},
   "outputs": [],
   "source": []
  }
 ],
 "metadata": {
  "kernelspec": {
   "display_name": "Python 3 (ipykernel)",
   "language": "python",
   "name": "python3"
  },
  "language_info": {
   "codemirror_mode": {
    "name": "ipython",
    "version": 3
   },
   "file_extension": ".py",
   "mimetype": "text/x-python",
   "name": "python",
   "nbconvert_exporter": "python",
   "pygments_lexer": "ipython3",
   "version": "3.12.10"
  }
 },
 "nbformat": 4,
 "nbformat_minor": 5
}
