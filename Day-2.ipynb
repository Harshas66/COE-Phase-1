{
 "cells": [
  {
   "cell_type": "code",
   "execution_count": 9,
   "id": "32c3dc61-963e-43fb-b68d-e07f2f766afb",
   "metadata": {},
   "outputs": [
    {
     "name": "stdout",
     "output_type": "stream",
     "text": [
      "90.4 90\n",
      "<class 'float'>\n",
      "<class 'int'>\n"
     ]
    }
   ],
   "source": [
    "#float--> int\n",
    "a = 90.4\n",
    "b = int(a)\n",
    "print(a,b)\n",
    "print(type(a))\n",
    "print(type(b))"
   ]
  },
  {
   "cell_type": "code",
   "execution_count": 10,
   "id": "8d73deb5-efbf-485a-af54-334897c48368",
   "metadata": {},
   "outputs": [
    {
     "name": "stdout",
     "output_type": "stream",
     "text": [
      "90\n",
      "<class 'str'>\n",
      "<class 'int'>\n"
     ]
    }
   ],
   "source": [
    "#string --> int\n",
    "a = '90'\n",
    "n= int(a)\n",
    "print(n)\n",
    "print(type(a))\n",
    "print(type(n))"
   ]
  },
  {
   "cell_type": "code",
   "execution_count": 11,
   "id": "6c831709-a996-4e39-8da6-3f4030923c50",
   "metadata": {},
   "outputs": [
    {
     "name": "stdout",
     "output_type": "stream",
     "text": [
      "90.0\n",
      "<class 'int'>\n",
      "<class 'float'>\n"
     ]
    }
   ],
   "source": [
    "#int --> float\n",
    "a = 90\n",
    "m = float(a)\n",
    "print(m)\n",
    "print(type(a))\n",
    "print(type(m))"
   ]
  },
  {
   "cell_type": "code",
   "execution_count": 12,
   "id": "0b7519f1-131f-4ded-8531-d71c2d67921c",
   "metadata": {},
   "outputs": [
    {
     "name": "stdout",
     "output_type": "stream",
     "text": [
      "65.0\n",
      "<class 'str'>\n",
      "<class 'float'>\n"
     ]
    }
   ],
   "source": [
    "#string --> float\n",
    "a = \"65\"\n",
    "j = float(a)\n",
    "print(j)\n",
    "print(type(a))\n",
    "print(type(j))"
   ]
  },
  {
   "cell_type": "code",
   "execution_count": 16,
   "id": "7aaab8f4-0fca-4e1e-9957-f4c5ed04fc86",
   "metadata": {},
   "outputs": [
    {
     "name": "stdout",
     "output_type": "stream",
     "text": [
      "97 98.5\n",
      "<class 'int'>\n",
      "<class 'float'>\n",
      "<class 'str'>\n",
      "<class 'str'>\n",
      "98\n"
     ]
    }
   ],
   "source": [
    "#int,float-->string\n",
    "a = 97\n",
    "c= 98.5\n",
    "k = str(a)\n",
    "l = str(c)\n",
    "print(k,l)\n",
    "print(type(a))\n",
    "print(type(c))\n",
    "print(type(k))\n",
    "print(type(l))\n",
    "print(round(c))"
   ]
  },
  {
   "cell_type": "code",
   "execution_count": 43,
   "id": "0654f9b4-2c1e-4c81-b659-f79e9395e690",
   "metadata": {},
   "outputs": [
    {
     "name": "stdin",
     "output_type": "stream",
     "text": [
      "Enter your amount:  100\n"
     ]
    },
    {
     "name": "stdout",
     "output_type": "stream",
     "text": [
      "100 rupees notes:  1\n",
      "Thank you\n"
     ]
    }
   ],
   "source": [
    "#ATM\n",
    "amount = int(input(\"Enter your amount: \"))\n",
    "five = 0\n",
    "two = 0\n",
    "one = 0\n",
    "if amount%100==0:\n",
    "    if amount>=500:\n",
    "        five = amount//500\n",
    "        print(\"500 rupees notes: \",five)\n",
    "        amount = amount-(five*500)\n",
    "    if amount>=200:\n",
    "        two = amount//200\n",
    "        print(\"200 rupees notes: \",two)\n",
    "        amount = amount-(two*200)\n",
    "    if amount>=100:\n",
    "        one = amount//100\n",
    "        print(\"100 rupees notes: \",one)\n",
    "        amount = amount-(one*100)\n",
    "print(\"Thank you\")"
   ]
  },
  {
   "cell_type": "code",
   "execution_count": 21,
   "id": "94188749-d2e4-42a7-bc1d-1885bfcc85d4",
   "metadata": {},
   "outputs": [
    {
     "name": "stdin",
     "output_type": "stream",
     "text": [
      "Enter your salary:  1500\n"
     ]
    },
    {
     "name": "stdout",
     "output_type": "stream",
     "text": [
      "Gross_salary:  3810.0\n"
     ]
    }
   ],
   "source": [
    "#Task 1\n",
    "basic_salary = float(input(\"Enter your salary: \"))\n",
    "if basic_salary < 20000:\n",
    "    hra = 0.76 * basic_salary\n",
    "    da = 0.78* basic_salary\n",
    "elif 20000 <= basic_salary <= 30000:\n",
    "    hra = 0.79* basic_salary\n",
    "    da = 0.82* basic_salary\n",
    "else:\n",
    "    hra = 0.85* basic_salary\n",
    "    da = 0.89* basic_salary\n",
    "gross_salary = basic_salary + hra + da\n",
    "print(\"Gross_salary: \",gross_salary)"
   ]
  },
  {
   "cell_type": "code",
   "execution_count": 47,
   "id": "6b39eef5-7b38-4a57-9ee0-a1ae48962dd0",
   "metadata": {},
   "outputs": [
    {
     "name": "stdin",
     "output_type": "stream",
     "text": [
      "Enter your salary:  1200000\n"
     ]
    },
    {
     "name": "stdout",
     "output_type": "stream",
     "text": [
      "TDS = 70000.0\n"
     ]
    }
   ],
   "source": [
    "salary = int(input(\"Enter your salary: \"))\n",
    "\n",
    "if salary <= 500000:\n",
    "    tds = 0\n",
    "else:\n",
    "    if salary <= 700000:\n",
    "        tds = 0.05 * (salary - 500000)\n",
    "    elif salary <= 1000000:\n",
    "        tds = (200000 * 0.05) + (salary - 700000) * 0.10\n",
    "    elif salary <= 1500000:\n",
    "        tds = (200000 * 0.05) + (300000 * 0.10) + (salary - 1000000) * 0.15\n",
    "    elif salary <= 2000000:\n",
    "        tds = (200000 * 0.05) + (300000 * 0.10) + (500000 * 0.15) + (salary - 1500000) * 0.20\n",
    "    else:\n",
    "        tds = (200000 * 0.05) + (300000 * 0.10) + (500000 * 0.15) + (500000 * 0.20) + (salary - 2000000) * 0.30\n",
    "\n",
    "print(\"TDS =\", tds)\n"
   ]
  },
  {
   "cell_type": "code",
   "execution_count": null,
   "id": "a5b5d57d-048c-42d5-8957-b97050cd6fa3",
   "metadata": {},
   "outputs": [],
   "source": []
  }
 ],
 "metadata": {
  "kernelspec": {
   "display_name": "Python 3 (ipykernel)",
   "language": "python",
   "name": "python3"
  },
  "language_info": {
   "codemirror_mode": {
    "name": "ipython",
    "version": 3
   },
   "file_extension": ".py",
   "mimetype": "text/x-python",
   "name": "python",
   "nbconvert_exporter": "python",
   "pygments_lexer": "ipython3",
   "version": "3.12.10"
  }
 },
 "nbformat": 4,
 "nbformat_minor": 5
}
